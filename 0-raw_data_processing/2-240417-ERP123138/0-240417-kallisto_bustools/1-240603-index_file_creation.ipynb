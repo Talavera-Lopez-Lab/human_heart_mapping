{
 "cells": [
  {
   "cell_type": "markdown",
   "metadata": {},
   "source": [
    "# Notebook for creating a mapping index for dataset ERP123138 using kallisto bustools\n",
    "\n",
    "Raw data downloaded from [here](https://www.ebi.ac.uk/ena/browser/view/PRJEB39602)\n",
    "\n",
    "    Developed by: Christian Eger\n",
    "    Würzburg Institute for Systems Immunology - Faculty of Medicine - Julius Maximilian Universität Würzburg\n",
    "    Created on: 240603\n",
    "    Last modified: 240605"
   ]
  },
  {
   "cell_type": "markdown",
   "metadata": {},
   "source": [
    "## Inspect index file script"
   ]
  },
  {
   "cell_type": "code",
   "execution_count": 7,
   "metadata": {},
   "outputs": [
    {
     "name": "stdout",
     "output_type": "stream",
     "text": [
      "import experiment\n",
      "import os\n",
      "\n",
      "GEX_Experiment = experiment.TenX_GEX_Experiment(\n",
      "    parent_dir=os.getcwd(),\n",
      "    meta_data_path='meta_data/downloads_table.csv',\n",
      "    sample_col='sample_accession',\n",
      "    file_name_col='filename',\n",
      "    url_col='url',\n",
      "    mapping_output='mapping_py'\n",
      ")\n",
      "\n",
      "GEX_Experiment.create_kallisto_bustools_index()"
     ]
    }
   ],
   "source": [
    "%%bash\n",
    "cat index_script.py"
   ]
  },
  {
   "cell_type": "markdown",
   "metadata": {},
   "source": [
    "## Run index file creation script"
   ]
  },
  {
   "cell_type": "markdown",
   "metadata": {},
   "source": [
    "Paste the following commands into your terminal\n",
    "```bash\n",
    "mamba activate <environment>\n",
    "cd <path/to/this/directory>\n",
    "nohup python index_script.py &\n",
    "```\n",
    "CTRL+C\n",
    "```bash\n",
    "tail -f nohup.out\n",
    "```"
   ]
  }
 ],
 "metadata": {
  "kernelspec": {
   "display_name": "heart_mapping",
   "language": "python",
   "name": "python3"
  },
  "language_info": {
   "codemirror_mode": {
    "name": "ipython",
    "version": 3
   },
   "file_extension": ".py",
   "mimetype": "text/x-python",
   "name": "python",
   "nbconvert_exporter": "python",
   "pygments_lexer": "ipython3",
   "version": "3.10.14"
  }
 },
 "nbformat": 4,
 "nbformat_minor": 2
}
