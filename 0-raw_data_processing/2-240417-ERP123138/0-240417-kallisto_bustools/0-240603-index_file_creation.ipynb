{
 "cells": [
  {
   "cell_type": "code",
   "execution_count": 7,
   "metadata": {},
   "outputs": [
    {
     "name": "stdout",
     "output_type": "stream",
     "text": [
      "import experiment\n",
      "import os\n",
      "\n",
      "GEX_Experiment = experiment.TenX_GEX_Experiment(\n",
      "    parent_dir=os.getcwd(),\n",
      "    meta_data_path='meta_data/downloads_table.csv',\n",
      "    sample_col='sample_accession',\n",
      "    file_name_col='filename',\n",
      "    url_col='url',\n",
      "    mapping_output='mapping_py'\n",
      ")\n",
      "\n",
      "GEX_Experiment.create_kallisto_bustools_index()"
     ]
    }
   ],
   "source": [
    "%%bash\n",
    "cat index_script.py"
   ]
  },
  {
   "cell_type": "code",
   "execution_count": null,
   "metadata": {},
   "outputs": [],
   "source": [
    "%%bash\n",
    "nohup python index_script.py &"
   ]
  }
 ],
 "metadata": {
  "kernelspec": {
   "display_name": "heart_mapping",
   "language": "python",
   "name": "python3"
  },
  "language_info": {
   "codemirror_mode": {
    "name": "ipython",
    "version": 3
   },
   "file_extension": ".py",
   "mimetype": "text/x-python",
   "name": "python",
   "nbconvert_exporter": "python",
   "pygments_lexer": "ipython3",
   "version": "3.10.14"
  }
 },
 "nbformat": 4,
 "nbformat_minor": 2
}
