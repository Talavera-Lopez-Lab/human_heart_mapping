{
 "cells": [
  {
   "cell_type": "markdown",
   "metadata": {},
   "source": [
    "# Mapping ATAC Multiome Data using CellRanger-ARC\n",
    "\n",
    "[GEX-Data](https://www.ebi.ac.uk/biostudies/arrayexpress/studies/E-MTAB-12916/sdrf?full=true) \n",
    "\n",
    "[ATAC-DATA](https://www.ebi.ac.uk/biostudies/arrayexpress/studies/E-MTAB-12919/sdrf?full=true)\n",
    "\n",
    "    \n",
    "    Developed by: Christian Eger\n",
    "    Würzburg Institute for Systems Immunology - Faculty of Medicine - Julius Maximilian Universität Würzburg\n",
    "    Created on: 240422\n",
    "    Last modified: 240422"
   ]
  },
  {
   "cell_type": "code",
   "execution_count": 1,
   "metadata": {},
   "outputs": [],
   "source": [
    "import os"
   ]
  },
  {
   "cell_type": "code",
   "execution_count": 5,
   "metadata": {},
   "outputs": [
    {
     "ename": "TypeError",
     "evalue": "get_folders() missing 1 required positional argument: 'path'",
     "output_type": "error",
     "traceback": [
      "\u001b[0;31m---------------------------------------------------------------------------\u001b[0m",
      "\u001b[0;31mTypeError\u001b[0m                                 Traceback (most recent call last)",
      "\u001b[1;32m/mnt/LaCIE/ceger/Projects/human_heart_mapping/human_heart_mapping/0-raw_data_processing/3-240417-E-MTAB-12916_E-MTAB-12919/1-240419-CellRanger_ARC/2-240422-mapping.ipynb Cell 3\u001b[0m line \u001b[0;36m5\n\u001b[1;32m      <a href='vscode-notebook-cell://ssh-remote%2B132.187.167.21/mnt/LaCIE/ceger/Projects/human_heart_mapping/human_heart_mapping/0-raw_data_processing/3-240417-E-MTAB-12916_E-MTAB-12919/1-240419-CellRanger_ARC/2-240422-mapping.ipynb#W2sdnNjb2RlLXJlbW90ZQ%3D%3D?line=1'>2</a>\u001b[0m     folders \u001b[39m=\u001b[39m [f \u001b[39mfor\u001b[39;00m f \u001b[39min\u001b[39;00m os\u001b[39m.\u001b[39mlistdir(path) \u001b[39mif\u001b[39;00m os\u001b[39m.\u001b[39mpath\u001b[39m.\u001b[39misdir(os\u001b[39m.\u001b[39mpath\u001b[39m.\u001b[39mjoin(path, f))]\n\u001b[1;32m      <a href='vscode-notebook-cell://ssh-remote%2B132.187.167.21/mnt/LaCIE/ceger/Projects/human_heart_mapping/human_heart_mapping/0-raw_data_processing/3-240417-E-MTAB-12916_E-MTAB-12919/1-240419-CellRanger_ARC/2-240422-mapping.ipynb#W2sdnNjb2RlLXJlbW90ZQ%3D%3D?line=2'>3</a>\u001b[0m     \u001b[39mreturn\u001b[39;00m folders\n\u001b[0;32m----> <a href='vscode-notebook-cell://ssh-remote%2B132.187.167.21/mnt/LaCIE/ceger/Projects/human_heart_mapping/human_heart_mapping/0-raw_data_processing/3-240417-E-MTAB-12916_E-MTAB-12919/1-240419-CellRanger_ARC/2-240422-mapping.ipynb#W2sdnNjb2RlLXJlbW90ZQ%3D%3D?line=4'>5</a>\u001b[0m mapped_samples \u001b[39m=\u001b[39m get_folders()\n\u001b[1;32m      <a href='vscode-notebook-cell://ssh-remote%2B132.187.167.21/mnt/LaCIE/ceger/Projects/human_heart_mapping/human_heart_mapping/0-raw_data_processing/3-240417-E-MTAB-12916_E-MTAB-12919/1-240419-CellRanger_ARC/2-240422-mapping.ipynb#W2sdnNjb2RlLXJlbW90ZQ%3D%3D?line=5'>6</a>\u001b[0m mapped_samples\n",
      "\u001b[0;31mTypeError\u001b[0m: get_folders() missing 1 required positional argument: 'path'"
     ]
    }
   ],
   "source": [
    "def get_folders(path):\n",
    "    folders = [f for f in os.listdir(path) if os.path.isdir(os.path.join(path, f))]\n",
    "    return folders\n",
    "\n",
    "mapped_samples = get_folders()\n",
    "mapped_samples"
   ]
  },
  {
   "cell_type": "code",
   "execution_count": 6,
   "metadata": {},
   "outputs": [
    {
     "name": "stdout",
     "output_type": "stream",
     "text": [
      "from experiment import Multiome_ATAC_Experiment\n",
      "\n",
      "\n",
      "rna_meta_path = 'meta_data/E-MTAB-12916.sdrf.txt'\n",
      "atac_meta_path = 'meta_data/E-MTAB-12919.sdrf.txt'\n",
      "meta_data_index = 'Description'\n",
      "sample_col = 'Source Name'\n",
      "file_name_col = 'Scan Name'\n",
      "url_col = 'Comment[FASTQ_URI]'\n",
      "parent_dir = '/mnt/LaCIE/ceger/Projects/human_heart_mapping/human_heart_mapping/0-raw_data_processing/3-240417-E-MTAB-12916_E-MTAB-12919/1-240419-CellRanger_ARC'\n",
      "cellranger_dir = '/home/ceger/CellRanger/cellranger-arc-2.0.2/cellranger-arc'\n",
      "cellranger_reference = 'cr_arc_index/GRCh38'\n",
      "mapping_output = 'mapping_py'\n",
      "mapped_samples = []\n",
      "\n",
      "multiome_experiment = Multiome_ATAC_Experiment(\n",
      "    rna_meta_path,\n",
      "    atac_meta_path,\n",
      "    meta_data_index,\n",
      "    sample_col,\n",
      "    file_name_col,\n",
      "    url_col,\n",
      "    parent_dir,\n",
      "    cellranger_dir,\n",
      "    cellranger_reference,\n",
      "    mapping_output,\n",
      "    mapped_samples=mapped_samples\n",
      ")\n",
      "\n",
      "multiome_experiment.mapping()"
     ]
    }
   ],
   "source": [
    "%%bash\n",
    "cat mapping_script.py"
   ]
  },
  {
   "cell_type": "code",
   "execution_count": 7,
   "metadata": {},
   "outputs": [
    {
     "name": "stdout",
     "output_type": "stream",
     "text": [
      "/mnt/LaCIE/ceger/Projects/human_heart_mapping/human_heart_mapping/0-raw_data_processing/3-240417-E-MTAB-12916_E-MTAB-12919/1-240419-CellRanger_ARC\n"
     ]
    }
   ],
   "source": [
    "%%bash\n",
    "pwd"
   ]
  },
  {
   "cell_type": "code",
   "execution_count": 4,
   "metadata": {},
   "outputs": [
    {
     "name": "stderr",
     "output_type": "stream",
     "text": [
      "Traceback (most recent call last):\n",
      "  File \"/mnt/LaCIE/ceger/Projects/human_heart_mapping/human_heart_mapping/0-raw_data_processing/3-240417-E-MTAB-12916_E-MTAB-12919/1-240419-CellRanger_ARC/mapping_script.py\", line 25, in <module>\n",
      "    multiome_experiment = Multiome_ATAC_Experiment(\n",
      "  File \"/mnt/LaCIE/ceger/Projects/human_heart_mapping/human_heart_mapping/0-raw_data_processing/3-240417-E-MTAB-12916_E-MTAB-12919/1-240419-CellRanger_ARC/experiment.py\", line 38, in __init__\n",
      "    self.meta_data = self.create_meta_data()\n",
      "  File \"/mnt/LaCIE/ceger/Projects/human_heart_mapping/human_heart_mapping/0-raw_data_processing/3-240417-E-MTAB-12916_E-MTAB-12919/1-240419-CellRanger_ARC/experiment.py\", line 51, in create_meta_data\n",
      "    meta_data = meta_data[~meta_data.index.isin(self.mapped_samples)]\n",
      "AttributeError: 'Multiome_ATAC_Experiment' object has no attribute 'mapped_samples'\n"
     ]
    }
   ],
   "source": [
    "%%bash\n",
    "nohup python mapping_script.py &"
   ]
  }
 ],
 "metadata": {
  "kernelspec": {
   "display_name": "heart_mapping",
   "language": "python",
   "name": "python3"
  },
  "language_info": {
   "codemirror_mode": {
    "name": "ipython",
    "version": 3
   },
   "file_extension": ".py",
   "mimetype": "text/x-python",
   "name": "python",
   "nbconvert_exporter": "python",
   "pygments_lexer": "ipython3",
   "version": "3.10.14"
  }
 },
 "nbformat": 4,
 "nbformat_minor": 2
}
