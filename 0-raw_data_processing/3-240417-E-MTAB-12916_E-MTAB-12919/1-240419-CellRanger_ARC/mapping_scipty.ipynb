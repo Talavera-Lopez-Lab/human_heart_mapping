{
 "cells": [
  {
   "cell_type": "code",
   "execution_count": null,
   "metadata": {},
   "outputs": [],
   "source": [
    "import pandas as pd\n",
    "import os\n",
    "import subprocess\n",
    "import csv\n",
    "import shutil"
   ]
  },
  {
   "cell_type": "code",
   "execution_count": null,
   "metadata": {},
   "outputs": [],
   "source": [
    "def combine_meta_data(df_rna_path, df_atac_path, sample_column, keys=['rna', 'atac']):\n",
    "    return pd.concat(\n",
    "        [\n",
    "            pd.read_table(df_rna_path, index_col=sample_column),\n",
    "            pd.read_table(df_atac_path, index_col=sample_column)\n",
    "        ],\n",
    "        axis=1,\n",
    "        keys=keys\n",
    "    )"
   ]
  },
  {
   "cell_type": "code",
   "execution_count": null,
   "metadata": {},
   "outputs": [],
   "source": [
    "keys = ['rna', 'atac']\n",
    "mapped_samples = []\n",
    "meta_data = combine_meta_data('../.data/meta_data/E-MTAB-12916.sdrf.txt', '../.data/meta_data/E-MTAB-12919.sdrf.txt', 'Description', keys=keys)\n",
    "# Remove already mapped samples from the dataframe\n",
    "meta_data = meta_data[~meta_data.index.isin(mapped_samples)]"
   ]
  },
  {
   "cell_type": "code",
   "execution_count": null,
   "metadata": {},
   "outputs": [],
   "source": [
    "def write_csv(csv_file, data, mode):\n",
    "    with open(csv_file, mode=mode, newline='') as file:\n",
    "        writer = csv.writer(file)\n",
    "        writer.writerows(data)"
   ]
  },
  {
   "cell_type": "code",
   "execution_count": null,
   "metadata": {},
   "outputs": [],
   "source": [
    "parent_dir = '/mnt/LaCIE/ceger/Projects/human_heart_mapping/human_heart_mapping/0-raw_data_processing/3-240417-E-MTAB-12916_E-MTAB-12919'\n",
    "source_dir = os.getcwd()\n",
    "data_dir = os.path.join(parent_dir, '.data')\n",
    "runs = meta_data.index.unique()\n",
    "cellranger = '/home/ceger/CellRanger/cellranger-arc-2.0.2/cellranger-arc'\n",
    "sample_col = 'Source Name'\n",
    "file_name_col = 'Scan Name'\n",
    "url_col = 'Comment[FASTQ_URI]'\n",
    "output_path = os.path.join(data_dir, 'mapping_py')\n",
    "cellranger_reference = os.path.join(data_dir, 'cr_arc_index/GRCh38')\n",
    "\n",
    "for run in runs:\n",
    "    run_dir = os.path.join(output_path, run) \n",
    "    os.makedirs(run_dir, exist_ok=True)\n",
    "    download_df = meta_data[meta_data.index == run]\n",
    "    libraries_colums = [['fastqs', 'sample', 'library_type']]\n",
    "    libraries_filepath = os.path.join(run_dir, 'libraries.csv')\n",
    "    write_csv(libraries_filepath, libraries_colums, mode='w')\n",
    "    for key in keys:\n",
    "        sample = download_df[key][sample_col][0]\n",
    "        sample_dir = os.path.join(run_dir, sample)\n",
    "        os.makedirs(sample_dir, exist_ok=True)\n",
    "        libraries_values = [[sample_dir, sample, 'Gene Expression' if key == 'rna' else 'Chromatin Accessibility' if key == 'atac' else None]]\n",
    "        write_csv(libraries_filepath, libraries_values, mode='a')\n",
    "        file_dict = {row[file_name_col]: row[url_col] for index, row in download_df[key].iterrows()}\n",
    "        for file_name, url in file_dict.items():\n",
    "            file_path = os.path.join(sample_dir, file_name)\n",
    "            subprocess.run(['axel', '-n', '10', '--output', file_path, url],\n",
    "                           check=True)\n",
    "    # Running Cellranger\n",
    "    cellranger_arc_run = [\n",
    "        cellranger,\n",
    "        'count',\n",
    "        '--id=' + run,\n",
    "        '--reference=' + cellranger_reference,\n",
    "        '--libraries=' + libraries_filepath,\n",
    "        '--localcores=20',\n",
    "        '--localmem=32'\n",
    "    ]\n",
    "    subprocess.run(cellranger_arc_run)\n",
    "    \n",
    "    # Moving output files into mapping directory\n",
    "    cellranger_run_output_path = os.path.join(source_dir, run)\n",
    "    shutil.move(cellranger_run_output_path, run_dir)\n",
    "\n",
    "    # Deleting the downloaded files\n",
    "    for key in keys:\n",
    "        sample = download_df[key][sample_col][0]\n",
    "        sample_dir = os.path.join(run_dir, sample)\n",
    "        try:\n",
    "            shutil.rmtree(sample_dir)\n",
    "            print(f'{key} sample folder deleted')\n",
    "        except OSError as e:\n",
    "            print(f\"Error: {sample_dir} : {e.strerror}\")"
   ]
  },
  {
   "cell_type": "code",
   "execution_count": null,
   "metadata": {},
   "outputs": [],
   "source": [
    "cellranger_arc_run = [\n",
    "    '/home/ceger/CellRanger/cellranger-arc-2.0.2/cellranger-arc',\n",
    "    'count',\n",
    "    '--id=' + 'test',\n",
    "    '--reference=' + '/mnt/LaCIE/ceger/Projects/human_heart_mapping/human_heart_mapping/0-raw_data_processing/3-240417-E-MTAB-12916_E-MTAB-12919/.data/cr_arc_index/GRCh38',\n",
    "    '--libraries=' + '/mnt/LaCIE/ceger/Projects/human_heart_mapping/human_heart_mapping/0-raw_data_processing/3-240417-E-MTAB-12916_E-MTAB-12919/.data/mapping_py/HCAHeart9508627_HCAHeart9508819/libraries.csv',\n",
    "    '--localcores=20',\n",
    "    '--localmem=32'\n",
    "]\n",
    "subprocess.run(cellranger_arc_run)"
   ]
  }
 ],
 "metadata": {
  "kernelspec": {
   "display_name": "heart_mapping",
   "language": "python",
   "name": "python3"
  },
  "language_info": {
   "codemirror_mode": {
    "name": "ipython",
    "version": 3
   },
   "file_extension": ".py",
   "mimetype": "text/x-python",
   "name": "python",
   "nbconvert_exporter": "python",
   "pygments_lexer": "ipython3",
   "version": "3.10.14"
  }
 },
 "nbformat": 4,
 "nbformat_minor": 2
}
