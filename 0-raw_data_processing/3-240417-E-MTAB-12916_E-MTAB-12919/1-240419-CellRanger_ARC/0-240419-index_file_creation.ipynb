{
 "cells": [
  {
   "cell_type": "markdown",
   "metadata": {},
   "source": [
    "# Creating custom index folder for CellRanger-ARC\n",
    "\n",
    "According to this [Tutorial](https://support.10xgenomics.com/single-cell-multiome-atac-gex/software/pipelines/latest/tutorial/mkref)\n",
    "\n",
    "    Developed by: Christian Eger\n",
    "    Würzburg Institute for Systems Immunology - Faculty of Medicine - Julius Maximilian Universität Würzburg\n",
    "    Created on: 240419\n",
    "    Last modified: 240419"
   ]
  },
  {
   "cell_type": "markdown",
   "metadata": {},
   "source": [
    "## Import modules"
   ]
  },
  {
   "cell_type": "code",
   "execution_count": 9,
   "metadata": {},
   "outputs": [],
   "source": [
    "import pandas as pd\n",
    "import os"
   ]
  },
  {
   "cell_type": "markdown",
   "metadata": {},
   "source": [
    "## Index file creation"
   ]
  },
  {
   "cell_type": "markdown",
   "metadata": {},
   "source": [
    "## Unpack the fasta and gtf files\n",
    "\n",
    "### Index file creation\n",
    "\n",
    "**Comprehensive gene annotation ALL:**\n",
    "- It contains the comprehensive gene annotation on the reference chromosomes, scaffolds, assembly patches and alternate loci (haplotypes)\n",
    "\n",
    "**Long non-coding RNA gene annotation CHR:**\n",
    "- It contains the comprehensive gene annotation of lncRNA genes on the reference chromosomes\n",
    "\n",
    "**Predicted tRNA genes CHR:**\n",
    "- tRNA genes predicted by ENSEMBL on the reference chromosomes using tRNAscan-SE\n",
    "- This dataset does not form part of the main annotation file\n",
    "\n",
    "\n",
    "**Genome sequence (GRCh38.p14) ALL:**\n",
    "- Nucleotide sequence of the GRCh38.p14 genome assembly version on all regions, including reference chromosomes, scaffolds, assembly patches and haplotypes\n",
    "- The sequence region names are the same as in the GTF/GFF3 files\n",
    "\n",
    "downloaded from [**here**](https://www.gencodegenes.org/human/)"
   ]
  },
  {
   "cell_type": "markdown",
   "metadata": {},
   "source": [
    "### Prep GTF File"
   ]
  },
  {
   "cell_type": "markdown",
   "metadata": {},
   "source": [
    "#### Unzip"
   ]
  },
  {
   "cell_type": "code",
   "execution_count": 15,
   "metadata": {},
   "outputs": [
    {
     "name": "stderr",
     "output_type": "stream",
     "text": [
      "../.data/reference_data/gencode.v45.chr_patch_hapl_scaff.annotation.gtf.gz:\t 96.8% -- replaced with ../.data/reference_data/gencode.v45.chr_patch_hapl_scaff.annotation.gtf\n",
      "../.data/reference_data/gencode.v45.long_noncoding_RNAs.gtf.gz:\t 95.1% -- replaced with ../.data/reference_data/gencode.v45.long_noncoding_RNAs.gtf\n",
      "../.data/reference_data/gencode.v45.tRNAs.gtf.gz:\t 87.0% -- replaced with ../.data/reference_data/gencode.v45.tRNAs.gtf\n",
      "../.data/reference_data/GRCh38.p14.genome.fa.gz:\t 73.2% -- replaced with ../.data/reference_data/GRCh38.p14.genome.fa\n",
      "rm: cannot remove '../.data/reference_data/*gz': No such file or directory\n"
     ]
    },
    {
     "name": "stdout",
     "output_type": "stream",
     "text": [
      "gencode.v45.chr_patch_hapl_scaff.annotation.gtf\n",
      "gencode.v45.long_noncoding_RNAs.gtf\n",
      "gencode.v45.tRNAs.gtf\n",
      "GRCh38.p14.genome.fa\n"
     ]
    }
   ],
   "source": [
    "%%bash\n",
    "\n",
    "reference_data=\"../.data/reference_data\"\n",
    "gunzip -v \"$reference_data\"/*gz\n",
    "rm \"$reference_data\"/*gz\n",
    "ls \"$reference_data\""
   ]
  },
  {
   "cell_type": "markdown",
   "metadata": {},
   "source": [
    "#### Inspect files"
   ]
  },
  {
   "cell_type": "code",
   "execution_count": 3,
   "metadata": {},
   "outputs": [
    {
     "name": "stdout",
     "output_type": "stream",
     "text": [
      "##description: evidence-based annotation of the human genome (GRCh38), version 45 (Ensembl 111)\n",
      "##provider: GENCODE\n",
      "##contact: gencode-help@ebi.ac.uk\n",
      "##format: gtf\n",
      "##date: 2023-09-19\n",
      "chr1\tHAVANA\tgene\t11869\t14409\t.\t+\t.\tgene_id \"ENSG00000290825.1\"; gene_type \"lncRNA\"; gene_name \"DDX11L2\"; level 2; tag \"overlaps_pseudogene\";\n",
      "chr1\tHAVANA\ttranscript\t11869\t14409\t.\t+\t.\tgene_id \"ENSG00000290825.1\"; transcript_id \"ENST00000456328.2\"; gene_type \"lncRNA\"; gene_name \"DDX11L2\"; transcript_type \"lncRNA\"; transcript_name \"DDX11L2-202\"; level 2; transcript_support_level \"1\"; tag \"basic\"; tag \"Ensembl_canonical\"; havana_transcript \"OTTHUMT00000362751.1\";\n",
      "chr1\tHAVANA\texon\t11869\t12227\t.\t+\t.\tgene_id \"ENSG00000290825.1\"; transcript_id \"ENST00000456328.2\"; gene_type \"lncRNA\"; gene_name \"DDX11L2\"; transcript_type \"lncRNA\"; transcript_name \"DDX11L2-202\"; exon_number 1; exon_id \"ENSE00002234944.1\"; level 2; transcript_support_level \"1\"; tag \"basic\"; tag \"Ensembl_canonical\"; havana_transcript \"OTTHUMT00000362751.1\";\n",
      "chr1\tHAVANA\texon\t12613\t12721\t.\t+\t.\tgene_id \"ENSG00000290825.1\"; transcript_id \"ENST00000456328.2\"; gene_type \"lncRNA\"; gene_name \"DDX11L2\"; transcript_type \"lncRNA\"; transcript_name \"DDX11L2-202\"; exon_number 2; exon_id \"ENSE00003582793.1\"; level 2; transcript_support_level \"1\"; tag \"basic\"; tag \"Ensembl_canonical\"; havana_transcript \"OTTHUMT00000362751.1\";\n",
      "chr1\tHAVANA\texon\t13221\t14409\t.\t+\t.\tgene_id \"ENSG00000290825.1\"; transcript_id \"ENST00000456328.2\"; gene_type \"lncRNA\"; gene_name \"DDX11L2\"; transcript_type \"lncRNA\"; transcript_name \"DDX11L2-202\"; exon_number 3; exon_id \"ENSE00002312635.1\"; level 2; transcript_support_level \"1\"; tag \"basic\"; tag \"Ensembl_canonical\"; havana_transcript \"OTTHUMT00000362751.1\";\n"
     ]
    }
   ],
   "source": [
    "%%bash\n",
    "\n",
    "head '../.data/reference_data/gencode.v45.chr_patch_hapl_scaff.annotation.gtf'"
   ]
  },
  {
   "cell_type": "code",
   "execution_count": 4,
   "metadata": {},
   "outputs": [
    {
     "name": "stdout",
     "output_type": "stream",
     "text": [
      "##description: evidence-based annotation of the human genome (GRCh38), version 45 (Ensembl 111) - long non-coding RNAs\n",
      "##provider: GENCODE\n",
      "##contact: gencode-help@ebi.ac.uk\n",
      "##format: gtf\n",
      "##date: 2023-09-19\n",
      "chr1\tHAVANA\tgene\t11869\t14409\t.\t+\t.\tgene_id \"ENSG00000290825.1\"; gene_type \"lncRNA\"; gene_name \"DDX11L2\"; level 2; tag \"overlaps_pseudogene\";\n",
      "chr1\tHAVANA\ttranscript\t11869\t14409\t.\t+\t.\tgene_id \"ENSG00000290825.1\"; transcript_id \"ENST00000456328.2\"; gene_type \"lncRNA\"; gene_name \"DDX11L2\"; transcript_type \"lncRNA\"; transcript_name \"DDX11L2-202\"; level 2; transcript_support_level \"1\"; tag \"basic\"; tag \"Ensembl_canonical\"; havana_transcript \"OTTHUMT00000362751.1\";\n",
      "chr1\tHAVANA\texon\t11869\t12227\t.\t+\t.\tgene_id \"ENSG00000290825.1\"; transcript_id \"ENST00000456328.2\"; gene_type \"lncRNA\"; gene_name \"DDX11L2\"; transcript_type \"lncRNA\"; transcript_name \"DDX11L2-202\"; exon_number 1; exon_id \"ENSE00002234944.1\"; level 2; transcript_support_level \"1\"; tag \"basic\"; tag \"Ensembl_canonical\"; havana_transcript \"OTTHUMT00000362751.1\";\n",
      "chr1\tHAVANA\texon\t12613\t12721\t.\t+\t.\tgene_id \"ENSG00000290825.1\"; transcript_id \"ENST00000456328.2\"; gene_type \"lncRNA\"; gene_name \"DDX11L2\"; transcript_type \"lncRNA\"; transcript_name \"DDX11L2-202\"; exon_number 2; exon_id \"ENSE00003582793.1\"; level 2; transcript_support_level \"1\"; tag \"basic\"; tag \"Ensembl_canonical\"; havana_transcript \"OTTHUMT00000362751.1\";\n",
      "chr1\tHAVANA\texon\t13221\t14409\t.\t+\t.\tgene_id \"ENSG00000290825.1\"; transcript_id \"ENST00000456328.2\"; gene_type \"lncRNA\"; gene_name \"DDX11L2\"; transcript_type \"lncRNA\"; transcript_name \"DDX11L2-202\"; exon_number 3; exon_id \"ENSE00002312635.1\"; level 2; transcript_support_level \"1\"; tag \"basic\"; tag \"Ensembl_canonical\"; havana_transcript \"OTTHUMT00000362751.1\";\n"
     ]
    }
   ],
   "source": [
    "%%bash\n",
    "\n",
    "head '../.data/reference_data/gencode.v45.long_noncoding_RNAs.gtf'"
   ]
  },
  {
   "cell_type": "code",
   "execution_count": 5,
   "metadata": {},
   "outputs": [
    {
     "name": "stdout",
     "output_type": "stream",
     "text": [
      "##description: evidence-based annotation of the human genome (GRCh38), version 45 (Ensembl 111) - tRNAs (tRNAscan predictions)\n",
      "##provider: GENCODE\n",
      "##contact: gencode-help@ebi.ac.uk\n",
      "##format: gtf\n",
      "##date: 2023-09-19\n",
      "chr1\tENSEMBL\ttRNA\t7930279\t7930348\t.\t-\t.\tgene_id \"33323\"; transcript_id \"33323\"; gene_type \"Pseudo_tRNA\"; gene_name \"33323\"; transcript_type \"Pseudo_tRNA\"; transcript_name \"33323\"; level 3;\n",
      "chr1\tENSEMBL\ttRNA\t16520585\t16520658\t.\t-\t.\tgene_id \"20658\"; transcript_id \"20658\"; gene_type \"Asn_tRNA\"; gene_name \"20658\"; transcript_type \"Asn_tRNA\"; transcript_name \"20658\"; level 3;\n",
      "chr1\tENSEMBL\ttRNA\t16532398\t16532471\t.\t-\t.\tgene_id \"20657\"; transcript_id \"20657\"; gene_type \"Asn_tRNA\"; gene_name \"20657\"; transcript_type \"Asn_tRNA\"; transcript_name \"20657\"; level 3;\n",
      "chr1\tENSEMBL\ttRNA\t16535279\t16535350\t.\t-\t.\tgene_id \"20656\"; transcript_id \"20656\"; gene_type \"Glu_tRNA\"; gene_name \"20656\"; transcript_type \"Glu_tRNA\"; transcript_name \"20656\"; level 3;\n",
      "chr1\tENSEMBL\ttRNA\t16545939\t16546009\t.\t-\t.\tgene_id \"20655\"; transcript_id \"20655\"; gene_type \"Gly_tRNA\"; gene_name \"20655\"; transcript_type \"Gly_tRNA\"; transcript_name \"20655\"; level 3;\n"
     ]
    }
   ],
   "source": [
    "%%bash\n",
    "\n",
    "head '../.data/reference_data/gencode.v45.tRNAs.gtf'"
   ]
  },
  {
   "cell_type": "markdown",
   "metadata": {},
   "source": [
    "#### Create Custom .gtf file by concatenation"
   ]
  },
  {
   "cell_type": "code",
   "execution_count": 24,
   "metadata": {},
   "outputs": [],
   "source": [
    "\n",
    "gene_gtf = \".data/reference_data/gencode.v45.chr_patch_hapl_scaff.annotation.gtf\"\n",
    "lncrna_gtf = \".data/reference_data/gencode.v45.long_noncoding_RNAs.gtf\"\n",
    "trna_gtf = \".data/reference_data/gencode.v45.tRNAs.gtf\"\n",
    "concat_gtf = \".data/reference_data/concat.gtf\"\n",
    "\n",
    "with open(concat_gtf, 'w') as outfile:\n",
    "    outfile.write(\"##description: evidence-based annotation of the human genome (GRCh38), version 45 (Ensembl 111) plus long non-coding RNAs and tRNAs (tRNAscan predictions)\\n\")\n",
    "    outfile.write(\"##provider: GENCODE\\n\")\n",
    "    outfile.write(\"##contact: gencode-help@ebi.ac.uk\\n\")\n",
    "    outfile.write(\"##format: gtf\\n\")\n",
    "    outfile.write(\"##date: 2023-09-19\\n\")\n",
    "    for filename in [gene_gtf, lncrna_gtf, trna_gtf]:\n",
    "        with open(filename, 'r') as infile:\n",
    "            for _ in range(5): \n",
    "                next(infile)\n",
    "            outfile.write(infile.read())\n",
    "\n",
    "def remove_duplicate_lines(filename):\n",
    "    seen_lines = set()  # Store unique lines\n",
    "    unique_lines = []\n",
    "\n",
    "    with open(filename, 'r') as infile:\n",
    "        for line in infile:\n",
    "            if line not in seen_lines:  # If line is not seen before\n",
    "                unique_lines.append(line)\n",
    "                seen_lines.add(line)\n",
    "\n",
    "    with open(filename, 'w') as outfile:  # Overwrite the input file\n",
    "        outfile.writelines(unique_lines)\n",
    "\n",
    "remove_duplicate_lines(concat_gtf)"
   ]
  },
  {
   "cell_type": "markdown",
   "metadata": {},
   "source": [
    "### Create a config file"
   ]
  },
  {
   "cell_type": "code",
   "execution_count": 25,
   "metadata": {},
   "outputs": [],
   "source": [
    "%%bash\n",
    "\n",
    "echo '{\n",
    "    organism: \"Homo_sapiens\",\n",
    "    genome: [\"GRCh38\"],\n",
    "    input_fasta: [\".data/reference_data/GRCh38.p14.genome.fa\"],\n",
    "    input_gtf: [\".data/reference_data/concat.gtf\"]\n",
    "}' > .data/reference_data/GRCh38.config\n"
   ]
  },
  {
   "cell_type": "code",
   "execution_count": 26,
   "metadata": {},
   "outputs": [
    {
     "name": "stdout",
     "output_type": "stream",
     "text": [
      ">>> Creating reference for GRCh38 <<<\n",
      "\n",
      "Creating new reference folder at /mnt/LaCIE/ceger/Projects/human_heart_mapping/human_heart_mapping/0-raw_data_processing/3-240417-E-MTAB-12916_E-MTAB-12919/1-240419-CellRanger_ARC/GRCh38\n",
      "...done\n",
      "\n",
      "Writing genome FASTA file into reference folder...\n",
      "...done\n",
      "\n",
      "Indexing genome FASTA file...\n",
      "...done\n",
      "\n",
      "Writing genes GTF file into reference folder...\n",
      "...done\n",
      "\n",
      "Generating STAR genome index (may take over 8 core hours for a 3Gb genome)...\n",
      "May 02 13:16:55 ..... started STAR run\n",
      "May 02 13:16:55 ... starting to generate Genome files\n",
      "May 02 13:17:50 ... starting to sort Suffix Array. This may take a long time...\n",
      "May 02 13:17:54 ... sorting Suffix Array chunks and saving them to disk...\n",
      "May 02 13:42:58 ... loading chunks from disk, packing SA...\n",
      "May 02 13:43:16 ... finished generating suffix array\n",
      "May 02 13:43:16 ... generating Suffix Array index\n",
      "May 02 13:45:10 ... completed Suffix Array index\n",
      "May 02 13:45:10 ..... processing annotations GTF\n",
      "May 02 13:45:27 ..... inserting junctions into the genome indices\n",
      "May 02 13:52:20 ... writing Genome to disk ...\n",
      "May 02 13:52:23 ... writing Suffix Array to disk ...\n",
      "May 02 13:52:29 ... writing SAindex to disk\n",
      "May 02 13:52:30 ..... finished successfully\n",
      "...done.\n",
      "\n",
      "Writing genome metadata JSON file into reference folder...\n",
      "Computing hash of genome FASTA file...\n",
      "...done\n",
      "\n",
      "Computing hash of genes GTF file...\n",
      "...done\n",
      "\n",
      "...done\n",
      "\n",
      "Generating bwa index (may take over an hour for a 3Gb genome)...\n"
     ]
    },
    {
     "name": "stderr",
     "output_type": "stream",
     "text": [
      "[bwa_index] Pack FASTA... 11.91 sec\n",
      "[bwa_index] Construct BWT for the packed sequence...\n",
      "[BWTIncCreate] textLength=6583170698, availableWord=475216096\n",
      "[BWTIncConstructFromPacked] 10 iterations done. 99999994 characters processed.\n",
      "[BWTIncConstructFromPacked] 20 iterations done. 199999994 characters processed.\n",
      "[BWTIncConstructFromPacked] 30 iterations done. 299999994 characters processed.\n",
      "[BWTIncConstructFromPacked] 40 iterations done. 399999994 characters processed.\n",
      "[BWTIncConstructFromPacked] 50 iterations done. 499999994 characters processed.\n",
      "[BWTIncConstructFromPacked] 60 iterations done. 599999994 characters processed.\n",
      "[BWTIncConstructFromPacked] 70 iterations done. 699999994 characters processed.\n",
      "[BWTIncConstructFromPacked] 80 iterations done. 799999994 characters processed.\n",
      "[BWTIncConstructFromPacked] 90 iterations done. 899999994 characters processed.\n",
      "[BWTIncConstructFromPacked] 100 iterations done. 999999994 characters processed.\n",
      "[BWTIncConstructFromPacked] 110 iterations done. 1099999994 characters processed.\n",
      "[BWTIncConstructFromPacked] 120 iterations done. 1199999994 characters processed.\n",
      "[BWTIncConstructFromPacked] 130 iterations done. 1299999994 characters processed.\n",
      "[BWTIncConstructFromPacked] 140 iterations done. 1399999994 characters processed.\n",
      "[BWTIncConstructFromPacked] 150 iterations done. 1499999994 characters processed.\n",
      "[BWTIncConstructFromPacked] 160 iterations done. 1599999994 characters processed.\n",
      "[BWTIncConstructFromPacked] 170 iterations done. 1699999994 characters processed.\n",
      "[BWTIncConstructFromPacked] 180 iterations done. 1799999994 characters processed.\n",
      "[BWTIncConstructFromPacked] 190 iterations done. 1899999994 characters processed.\n",
      "[BWTIncConstructFromPacked] 200 iterations done. 1999999994 characters processed.\n",
      "[BWTIncConstructFromPacked] 210 iterations done. 2099999994 characters processed.\n",
      "[BWTIncConstructFromPacked] 220 iterations done. 2199999994 characters processed.\n",
      "[BWTIncConstructFromPacked] 230 iterations done. 2299999994 characters processed.\n",
      "[BWTIncConstructFromPacked] 240 iterations done. 2399999994 characters processed.\n",
      "[BWTIncConstructFromPacked] 250 iterations done. 2499999994 characters processed.\n",
      "[BWTIncConstructFromPacked] 260 iterations done. 2599999994 characters processed.\n",
      "[BWTIncConstructFromPacked] 270 iterations done. 2699999994 characters processed.\n",
      "[BWTIncConstructFromPacked] 280 iterations done. 2799999994 characters processed.\n",
      "[BWTIncConstructFromPacked] 290 iterations done. 2899999994 characters processed.\n",
      "[BWTIncConstructFromPacked] 300 iterations done. 2999999994 characters processed.\n",
      "[BWTIncConstructFromPacked] 310 iterations done. 3099999994 characters processed.\n",
      "[BWTIncConstructFromPacked] 320 iterations done. 3199999994 characters processed.\n",
      "[BWTIncConstructFromPacked] 330 iterations done. 3299999994 characters processed.\n",
      "[BWTIncConstructFromPacked] 340 iterations done. 3399999994 characters processed.\n",
      "[BWTIncConstructFromPacked] 350 iterations done. 3499999994 characters processed.\n",
      "[BWTIncConstructFromPacked] 360 iterations done. 3599999994 characters processed.\n",
      "[BWTIncConstructFromPacked] 370 iterations done. 3699999994 characters processed.\n",
      "[BWTIncConstructFromPacked] 380 iterations done. 3799999994 characters processed.\n",
      "[BWTIncConstructFromPacked] 390 iterations done. 3899999994 characters processed.\n",
      "[BWTIncConstructFromPacked] 400 iterations done. 3999999994 characters processed.\n",
      "[BWTIncConstructFromPacked] 410 iterations done. 4099999994 characters processed.\n",
      "[BWTIncConstructFromPacked] 420 iterations done. 4199999994 characters processed.\n",
      "[BWTIncConstructFromPacked] 430 iterations done. 4299999994 characters processed.\n",
      "[BWTIncConstructFromPacked] 440 iterations done. 4399999994 characters processed.\n",
      "[BWTIncConstructFromPacked] 450 iterations done. 4499999994 characters processed.\n",
      "[BWTIncConstructFromPacked] 460 iterations done. 4599999994 characters processed.\n",
      "[BWTIncConstructFromPacked] 470 iterations done. 4699999994 characters processed.\n",
      "[BWTIncConstructFromPacked] 480 iterations done. 4799999994 characters processed.\n",
      "[BWTIncConstructFromPacked] 490 iterations done. 4899999994 characters processed.\n",
      "[BWTIncConstructFromPacked] 500 iterations done. 4999999994 characters processed.\n",
      "[BWTIncConstructFromPacked] 510 iterations done. 5099999994 characters processed.\n",
      "[BWTIncConstructFromPacked] 520 iterations done. 5199999994 characters processed.\n",
      "[BWTIncConstructFromPacked] 530 iterations done. 5299999994 characters processed.\n",
      "[BWTIncConstructFromPacked] 540 iterations done. 5399999994 characters processed.\n",
      "[BWTIncConstructFromPacked] 550 iterations done. 5499999994 characters processed.\n",
      "[BWTIncConstructFromPacked] 560 iterations done. 5599999994 characters processed.\n",
      "[BWTIncConstructFromPacked] 570 iterations done. 5699999994 characters processed.\n",
      "[BWTIncConstructFromPacked] 580 iterations done. 5799999994 characters processed.\n",
      "[BWTIncConstructFromPacked] 590 iterations done. 5899999994 characters processed.\n",
      "[BWTIncConstructFromPacked] 600 iterations done. 5995203242 characters processed.\n",
      "[BWTIncConstructFromPacked] 610 iterations done. 6079849338 characters processed.\n",
      "[BWTIncConstructFromPacked] 620 iterations done. 6155079002 characters processed.\n",
      "[BWTIncConstructFromPacked] 630 iterations done. 6221939338 characters processed.\n",
      "[BWTIncConstructFromPacked] 640 iterations done. 6281360970 characters processed.\n",
      "[BWTIncConstructFromPacked] 650 iterations done. 6334171002 characters processed.\n",
      "[BWTIncConstructFromPacked] 660 iterations done. 6381104682 characters processed.\n",
      "[BWTIncConstructFromPacked] 670 iterations done. 6422815450 characters processed.\n",
      "[BWTIncConstructFromPacked] 680 iterations done. 6459884074 characters processed.\n",
      "[BWTIncConstructFromPacked] 690 iterations done. 6492826714 characters processed.\n",
      "[BWTIncConstructFromPacked] 700 iterations done. 6522102186 characters processed.\n",
      "[BWTIncConstructFromPacked] 710 iterations done. 6548118266 characters processed.\n",
      "[BWTIncConstructFromPacked] 720 iterations done. 6571237402 characters processed.\n",
      "[bwt_gen] Finished constructing BWT in 726 iterations.\n",
      "[bwa_index] 1766.20 seconds elapse.\n",
      "[bwa_index] Update BWT... 10.71 sec\n",
      "[bwa_index] Pack forward-only FASTA... 7.88 sec\n",
      "[bwa_index] Construct SA from BWT and Occ... 981.55 sec\n",
      "[main] Version: 0.7.17-r1188\n",
      "[main] CMD: bwa index /mnt/LaCIE/ceger/Projects/human_heart_mapping/human_heart_mapping/0-raw_data_processing/3-240417-E-MTAB-12916_E-MTAB-12919/1-240419-CellRanger_ARC/GRCh38/fasta/genome.fa\n",
      "[main] Real time: 2819.168 sec; CPU: 2778.258 sec\n"
     ]
    },
    {
     "name": "stdout",
     "output_type": "stream",
     "text": [
      "done\n",
      "\n",
      "Writing TSS and transcripts bed file...\n",
      "...done\n",
      "\n",
      "Writing genome metadata JSON file into reference folder...\n",
      "Computing hash of genome FASTA file...\n",
      "...done\n",
      "\n",
      "Computing hash of genes GTF file...\n",
      "...done\n",
      "\n",
      "...done\n",
      "\n",
      ">>> Reference successfully created at GRCh38 <<<\n",
      "\n"
     ]
    }
   ],
   "source": [
    "%%bash\n",
    "\n",
    "export PATH=/home/ceger/CellRanger/cellranger-arc-2.0.2:$PATH\n",
    "\n",
    "cellranger-arc mkref --config=\".data/reference_data/GRCh38.config\""
   ]
  },
  {
   "cell_type": "markdown",
   "metadata": {},
   "source": [
    "### Move index folder to .data path"
   ]
  },
  {
   "cell_type": "code",
   "execution_count": 27,
   "metadata": {},
   "outputs": [],
   "source": [
    "%%bash\n",
    "\n",
    "index_output=\".data/cr_arc_index\"\n",
    "mkdir -p $index_output\n",
    "mv GRCh38 $index_output\n"
   ]
  },
  {
   "cell_type": "markdown",
   "metadata": {},
   "source": [
    "### Inspect folder contents"
   ]
  },
  {
   "cell_type": "code",
   "execution_count": 28,
   "metadata": {},
   "outputs": [
    {
     "name": "stdout",
     "output_type": "stream",
     "text": [
      "\u001b[01;34m.data/cr_arc_index/GRCh38/\u001b[0m\n",
      "├── \u001b[01;34mfasta\u001b[0m\n",
      "│   ├── \u001b[00mgenome.fa\u001b[0m\n",
      "│   ├── \u001b[00mgenome.fa.amb\u001b[0m\n",
      "│   ├── \u001b[00mgenome.fa.ann\u001b[0m\n",
      "│   ├── \u001b[00mgenome.fa.bwt\u001b[0m\n",
      "│   ├── \u001b[00mgenome.fa.fai\u001b[0m\n",
      "│   ├── \u001b[00mgenome.fa.pac\u001b[0m\n",
      "│   └── \u001b[00mgenome.fa.sa\u001b[0m\n",
      "├── \u001b[01;34mgenes\u001b[0m\n",
      "│   └── \u001b[01;31mgenes.gtf.gz\u001b[0m\n",
      "├── \u001b[00mreference.json\u001b[0m\n",
      "├── \u001b[01;34mregions\u001b[0m\n",
      "│   ├── \u001b[00mtranscripts.bed\u001b[0m\n",
      "│   └── \u001b[00mtss.bed\u001b[0m\n",
      "└── \u001b[01;34mstar\u001b[0m\n",
      "    ├── \u001b[00mchrLength.txt\u001b[0m\n",
      "    ├── \u001b[00mchrNameLength.txt\u001b[0m\n",
      "    ├── \u001b[00mchrName.txt\u001b[0m\n",
      "    ├── \u001b[00mchrStart.txt\u001b[0m\n",
      "    ├── \u001b[00mexonGeTrInfo.tab\u001b[0m\n",
      "    ├── \u001b[00mexonInfo.tab\u001b[0m\n",
      "    ├── \u001b[00mgeneInfo.tab\u001b[0m\n",
      "    ├── \u001b[00mGenome\u001b[0m\n",
      "    ├── \u001b[00mgenomeParameters.txt\u001b[0m\n",
      "    ├── \u001b[00mSA\u001b[0m\n",
      "    ├── \u001b[00mSAindex\u001b[0m\n",
      "    ├── \u001b[00msjdbInfo.txt\u001b[0m\n",
      "    ├── \u001b[00msjdbList.fromGTF.out.tab\u001b[0m\n",
      "    ├── \u001b[00msjdbList.out.tab\u001b[0m\n",
      "    └── \u001b[00mtranscriptInfo.tab\u001b[0m\n",
      "\n",
      "5 directories, 26 files\n"
     ]
    }
   ],
   "source": [
    "%%bash\n",
    "\n",
    "tree -L 2 \".data/cr_arc_index/GRCh38/\""
   ]
  }
 ],
 "metadata": {
  "kernelspec": {
   "display_name": "heart_mapping",
   "language": "python",
   "name": "python3"
  },
  "language_info": {
   "codemirror_mode": {
    "name": "ipython",
    "version": 3
   },
   "file_extension": ".py",
   "mimetype": "text/x-python",
   "name": "python",
   "nbconvert_exporter": "python",
   "pygments_lexer": "ipython3",
   "version": "3.10.14"
  }
 },
 "nbformat": 4,
 "nbformat_minor": 2
}
