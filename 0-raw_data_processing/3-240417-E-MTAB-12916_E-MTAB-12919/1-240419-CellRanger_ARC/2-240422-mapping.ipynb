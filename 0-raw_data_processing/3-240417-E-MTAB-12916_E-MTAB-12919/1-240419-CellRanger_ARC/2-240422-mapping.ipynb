{
 "cells": [
  {
   "cell_type": "markdown",
   "metadata": {},
   "source": [
    "# Mapping ATAC Multiome Data using CellRanger-ARC\n",
    "\n",
    "[GEX-Data](https://www.ebi.ac.uk/biostudies/arrayexpress/studies/E-MTAB-12916/sdrf?full=true) \n",
    "\n",
    "[ATAC-DATA](https://www.ebi.ac.uk/biostudies/arrayexpress/studies/E-MTAB-12919/sdrf?full=true)\n",
    "\n",
    "    \n",
    "    Developed by: Christian Eger\n",
    "    Würzburg Institute for Systems Immunology - Faculty of Medicine - Julius Maximilian Universität Würzburg\n",
    "    Created on: 240422\n",
    "    Last modified: 240422"
   ]
  },
  {
   "cell_type": "code",
   "execution_count": 1,
   "metadata": {},
   "outputs": [],
   "source": [
    "import os"
   ]
  },
  {
   "cell_type": "code",
   "execution_count": 2,
   "metadata": {},
   "outputs": [
    {
     "data": {
      "text/plain": [
       "['HCAHeart9845431_HCAHeart9917173',\n",
       " 'HCAHeart9845432_HCAHeart9917174',\n",
       " 'HCAHeart9508627_HCAHeart9508819',\n",
       " 'HCAHeart9845434_HCAHeart9917176',\n",
       " 'HCAHeart9845435_HCAHeart9917177',\n",
       " 'HCAHeart9845433_HCAHeart9917175',\n",
       " 'HCAHeart9508628_HCAHeart9508820',\n",
       " 'HCAHeart9508629_HCAHeart9508821']"
      ]
     },
     "execution_count": 2,
     "metadata": {},
     "output_type": "execute_result"
    }
   ],
   "source": [
    "def get_folders(path):\n",
    "    folders = [f for f in os.listdir(path) if os.path.isdir(os.path.join(path, f))]\n",
    "    return folders\n",
    "\n",
    "mapped_samples = get_folders('../.data/mapping/')\n",
    "mapped_samples"
   ]
  },
  {
   "cell_type": "code",
   "execution_count": 5,
   "metadata": {},
   "outputs": [
    {
     "name": "stdout",
     "output_type": "stream",
     "text": [
      "from experiment import Multiome_ATAC_Experiment\n",
      "\n",
      "\n",
      "rna_meta_path = 'meta_data/E-MTAB-12916.sdrf.txt'\n",
      "atac_meta_path = 'meta_data/E-MTAB-12919.sdrf.txt'\n",
      "meta_data_index = 'Description'\n",
      "sample_col = 'Source Name'\n",
      "file_name_col = 'Scan Name'\n",
      "url_col = 'Comment[FASTQ_URI]'\n",
      "parent_dir = '/mnt/LaCIE/ceger/Projects/human_heart_mapping/human_heart_mapping/0-raw_data_processing/3-240417-E-MTAB-12916_E-MTAB-12919/'\n",
      "cellranger_dir = '/home/ceger/CellRanger/cellranger-arc-2.0.2/cellranger-arc'\n",
      "cellranger_reference = 'cr_arc_index/GRCh38'\n",
      "mapping_output = 'mapping_py'\n",
      "mapped_samples = [\n",
      "    'HCAHeart9845431_HCAHeart9917173',\n",
      "    'HCAHeart9845432_HCAHeart9917174',\n",
      "    'HCAHeart9508627_HCAHeart9508819',\n",
      "    'HCAHeart9845434_HCAHeart9917176',\n",
      "    'HCAHeart9845435_HCAHeart9917177',\n",
      "    'HCAHeart9845433_HCAHeart9917175',\n",
      "    'HCAHeart9508628_HCAHeart9508820',\n",
      "    'HCAHeart9508629_HCAHeart9508821'\n",
      "]\n",
      "\n",
      "multiome_experiment = Multiome_ATAC_Experiment(\n",
      "    rna_meta_path,\n",
      "    atac_meta_path,\n",
      "    meta_data_index,\n",
      "    sample_col,\n",
      "    file_name_col,\n",
      "    url_col,\n",
      "    parent_dir,\n",
      "    cellranger_dir,\n",
      "    cellranger_reference,\n",
      "    mapping_output,\n",
      "    mapped_samples=mapped_samples\n",
      ")\n",
      "\n",
      "multiome_experiment.mapping()"
     ]
    }
   ],
   "source": [
    "%%bash\n",
    "cat mapping_script.py"
   ]
  },
  {
   "cell_type": "code",
   "execution_count": 1,
   "metadata": {},
   "outputs": [
    {
     "name": "stdout",
     "output_type": "stream",
     "text": [
      "/mnt/LaCIE/ceger/Projects/human_heart_mapping/human_heart_mapping/0-raw_data_processing/3-240417-E-MTAB-12916_E-MTAB-12919/1-240419-CellRanger_ARC\n"
     ]
    }
   ],
   "source": [
    "%%bash\n",
    "pwd"
   ]
  },
  {
   "cell_type": "code",
   "execution_count": 4,
   "metadata": {},
   "outputs": [
    {
     "name": "stderr",
     "output_type": "stream",
     "text": [
      "Traceback (most recent call last):\n",
      "  File \"/mnt/LaCIE/ceger/Projects/human_heart_mapping/human_heart_mapping/0-raw_data_processing/3-240417-E-MTAB-12916_E-MTAB-12919/1-240419-CellRanger_ARC/mapping_script.py\", line 25, in <module>\n",
      "    multiome_experiment = Multiome_ATAC_Experiment(\n",
      "  File \"/mnt/LaCIE/ceger/Projects/human_heart_mapping/human_heart_mapping/0-raw_data_processing/3-240417-E-MTAB-12916_E-MTAB-12919/1-240419-CellRanger_ARC/experiment.py\", line 38, in __init__\n",
      "    self.meta_data = self.create_meta_data()\n",
      "  File \"/mnt/LaCIE/ceger/Projects/human_heart_mapping/human_heart_mapping/0-raw_data_processing/3-240417-E-MTAB-12916_E-MTAB-12919/1-240419-CellRanger_ARC/experiment.py\", line 51, in create_meta_data\n",
      "    meta_data = meta_data[~meta_data.index.isin(self.mapped_samples)]\n",
      "AttributeError: 'Multiome_ATAC_Experiment' object has no attribute 'mapped_samples'\n"
     ]
    }
   ],
   "source": [
    "%%bash\n",
    "nohup python mapping_script.py &"
   ]
  }
 ],
 "metadata": {
  "kernelspec": {
   "display_name": "heart_mapping",
   "language": "python",
   "name": "python3"
  },
  "language_info": {
   "codemirror_mode": {
    "name": "ipython",
    "version": 3
   },
   "file_extension": ".py",
   "mimetype": "text/x-python",
   "name": "python",
   "nbconvert_exporter": "python",
   "pygments_lexer": "ipython3",
   "version": "3.10.14"
  }
 },
 "nbformat": 4,
 "nbformat_minor": 2
}
